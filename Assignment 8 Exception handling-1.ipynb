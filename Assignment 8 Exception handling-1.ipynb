{
 "cells": [
  {
   "cell_type": "markdown",
   "id": "b8980ea5-7116-43d3-a0c3-6dd596de386c",
   "metadata": {},
   "source": [
    "Q1. What is an Exception in python? Write the difference between Exceptions and syntax errors.\n",
    "\n",
    "ANS:\n",
    "\n",
    "In Python, an exception is an event that occurs during the execution of a program that disrupts the normal flow of the program's instructions. When an exception occurs, Python generates an exception object that contains information about the error, such as its type and details about where it occurred in the code. This exception object can be caught and handled by the program to prevent the program from crashing and to provide more meaningful error messages to the user.\n",
    "\n",
    "Here are some common types of exceptions in Python:\n",
    "\n",
    "->SyntaxError: These are errors that occur when the Python interpreter encounters invalid syntax in your code. They typically prevent the program from running at all. For example, if you forget to close a parenthesis or use an undefined variable, you'll get a syntax error.\n",
    "\n",
    "->ZeroDivisionError: This exception occurs when you try to divide a number by zero.\n",
    "\n",
    "->FileNotFoundError: Raised when an attempt to open a file fails because the file does not exist.\n",
    "\n",
    "->IndexError: Raised when you try to access an index that is out of range in a list or other sequence.\n",
    "\n",
    "->TypeError: Occurs when you perform an operation on a data type that is not supported, such as trying to add a string and an integer.\n",
    "\n",
    "->ValueError: Raised when you provide an argument of the correct data type but with an invalid value, such as trying to convert a string that cannot be parsed into an integer.\n",
    "\n",
    "Now, let's discuss the difference between exceptions and syntax errors:\n",
    "\n",
    "### Nature of Error:\n",
    "\n",
    "\n",
    "->Exceptions: Exceptions are runtime errors that occur when the program is executed. They can happen even if the code's syntax is correct.\n",
    "\n",
    "->Syntax Errors: Syntax errors are compile-time errors that occur when the code is being parsed by the Python interpreter before execution. These errors prevent the program from running at all.\n",
    "\n",
    "\n",
    "### Timing:\n",
    "\n",
    "\n",
    "->Exceptions: They occur during program execution when a specific condition is met, causing the program to deviate from its normal flow.\n",
    "\n",
    "->Syntax Errors: They are detected during the parsing phase before the program begins execution.\n",
    "\n",
    "\n",
    "### Handling:\n",
    "\n",
    "->Exceptions: You can catch and handle exceptions using try-except blocks to gracefully deal with unexpected issues in your code.\n",
    "\n",
    "->Syntax Errors: You need to fix syntax errors before you can even run the program; they cannot be caught and handled using try-except blocks.\n"
   ]
  },
  {
   "cell_type": "code",
   "execution_count": null,
   "id": "5a7b6979-c540-4498-ab23-4d3631714e7e",
   "metadata": {},
   "outputs": [],
   "source": []
  },
  {
   "cell_type": "markdown",
   "id": "d4421f30-d448-4587-bc84-d4f53b8a692b",
   "metadata": {},
   "source": [
    "Q2. What happens when an exception is not handled? Explain with an example\n",
    "\n",
    "ANS:\n",
    "\n",
    "When an exception is not handled in a Python program, it will propagate up the call stack until it is either caught and handled by an appropriate try-except block or until it reaches the top-level of the program. If the exception reaches the top-level without being caught and handled, it will result in the program terminating, and Python will display an error message that includes information about the unhandled exception.\n"
   ]
  },
  {
   "cell_type": "code",
   "execution_count": 1,
   "id": "08d7cee1-40ec-4c19-b621-4acad744f6c9",
   "metadata": {},
   "outputs": [
    {
     "ename": "ZeroDivisionError",
     "evalue": "division by zero",
     "output_type": "error",
     "traceback": [
      "\u001b[0;31m---------------------------------------------------------------------------\u001b[0m",
      "\u001b[0;31mZeroDivisionError\u001b[0m                         Traceback (most recent call last)",
      "Cell \u001b[0;32mIn[1], line 4\u001b[0m\n\u001b[1;32m      1\u001b[0m \u001b[38;5;28;01mdef\u001b[39;00m \u001b[38;5;21mdivide\u001b[39m(a, b):\n\u001b[1;32m      2\u001b[0m     \u001b[38;5;28;01mreturn\u001b[39;00m a \u001b[38;5;241m/\u001b[39m b\n\u001b[0;32m----> 4\u001b[0m result \u001b[38;5;241m=\u001b[39m \u001b[43mdivide\u001b[49m\u001b[43m(\u001b[49m\u001b[38;5;241;43m10\u001b[39;49m\u001b[43m,\u001b[49m\u001b[43m \u001b[49m\u001b[38;5;241;43m0\u001b[39;49m\u001b[43m)\u001b[49m\n\u001b[1;32m      5\u001b[0m \u001b[38;5;28mprint\u001b[39m(\u001b[38;5;124m\"\u001b[39m\u001b[38;5;124mResult:\u001b[39m\u001b[38;5;124m\"\u001b[39m, result)\n",
      "Cell \u001b[0;32mIn[1], line 2\u001b[0m, in \u001b[0;36mdivide\u001b[0;34m(a, b)\u001b[0m\n\u001b[1;32m      1\u001b[0m \u001b[38;5;28;01mdef\u001b[39;00m \u001b[38;5;21mdivide\u001b[39m(a, b):\n\u001b[0;32m----> 2\u001b[0m     \u001b[38;5;28;01mreturn\u001b[39;00m \u001b[43ma\u001b[49m\u001b[43m \u001b[49m\u001b[38;5;241;43m/\u001b[39;49m\u001b[43m \u001b[49m\u001b[43mb\u001b[49m\n",
      "\u001b[0;31mZeroDivisionError\u001b[0m: division by zero"
     ]
    }
   ],
   "source": [
    "def divide(a, b):\n",
    "    return a / b\n",
    "\n",
    "result = divide(10, 0)\n",
    "print(\"Result:\", result)\n"
   ]
  },
  {
   "cell_type": "code",
   "execution_count": 3,
   "id": "ee7de29f-d15d-4a05-9772-28bf18767b76",
   "metadata": {},
   "outputs": [
    {
     "name": "stdout",
     "output_type": "stream",
     "text": [
      "Error: Division by zero is not allowed.\n",
      "Cannot calculate the result due to an error.\n"
     ]
    }
   ],
   "source": [
    "#Correct Method For Above Example\n",
    "\n",
    "def divide(a, b):\n",
    "    try:\n",
    "        return a / b\n",
    "    except ZeroDivisionError:\n",
    "        print(\"Error: Division by zero is not allowed.\")\n",
    "        return None\n",
    "\n",
    "result = divide(10, 0)\n",
    "if result is not None:\n",
    "    print(\"Result:\", result)\n",
    "else:\n",
    "    print(\"Cannot calculate the result due to an error.\")\n"
   ]
  },
  {
   "cell_type": "code",
   "execution_count": null,
   "id": "ecbfc093-53a7-4d40-b46d-a5b9bad5590a",
   "metadata": {},
   "outputs": [],
   "source": []
  },
  {
   "cell_type": "markdown",
   "id": "37c1112d-3f52-4882-987b-4874fa4767e0",
   "metadata": {},
   "source": [
    "Q3. Which Python statements are used to catch and handle exceptions? Explain with an example.\n",
    "\n",
    "ANS:\n",
    "\n",
    "In Python, the statements used to catch and handle exceptions are try and except. These statements are part of a try-except block, which allows you to specify a block of code to try and another block of code to execute if an exception is raised within the \"try\" block."
   ]
  },
  {
   "cell_type": "code",
   "execution_count": 5,
   "id": "cb3d226e-19f0-4d2e-b145-4e3e75105f58",
   "metadata": {},
   "outputs": [
    {
     "name": "stdout",
     "output_type": "stream",
     "text": [
      "Error: Division by zero is not allowed.\n",
      "Cannot calculate Result 1 due to an error.\n"
     ]
    }
   ],
   "source": [
    "def divide(a, b):\n",
    "    try:\n",
    "        result = a / b\n",
    "    except ZeroDivisionError:\n",
    "        print(\"Error: Division by zero is not allowed.\")\n",
    "        result = None\n",
    "    return result\n",
    "\n",
    "# Example 1: Division by zero\n",
    "result1 = divide(10, 0)\n",
    "if result1 is not None:\n",
    "    print(\"Result 1:\", result1)\n",
    "else:\n",
    "    print(\"Cannot calculate Result 1 due to an error.\")\n",
    "\n"
   ]
  },
  {
   "cell_type": "code",
   "execution_count": 6,
   "id": "f4b96c22-9b88-4d1f-a8d9-e0a0cb65322e",
   "metadata": {},
   "outputs": [
    {
     "name": "stdout",
     "output_type": "stream",
     "text": [
      "Result 2: 5.0\n"
     ]
    }
   ],
   "source": [
    "# Example 2: Valid division\n",
    "result2 = divide(10, 2)\n",
    "if result2 is not None:\n",
    "    print(\"Result 2:\", result2)\n",
    "else:\n",
    "    print(\"Cannot calculate Result 2 due to an error.\")\n"
   ]
  },
  {
   "cell_type": "code",
   "execution_count": null,
   "id": "bc422953-43eb-41d0-9007-81837cd74f93",
   "metadata": {},
   "outputs": [],
   "source": []
  },
  {
   "cell_type": "markdown",
   "id": "5bbc8fcc-fef1-4903-be1a-6afaf941bc36",
   "metadata": {},
   "source": [
    "Q4. Explain with an example:\n",
    "\n",
    "a.try and else\n",
    "b.finally\n",
    "c.raise\n",
    "\n",
    "ANS:\n",
    "\n",
    "a. try and else:\n",
    "\n",
    "The try and else blocks are used together in a try-except-else structure. The try block contains the code that might raise an exception, and the else block contains code that should execute if no exceptions are raised in the try block\n",
    "\n",
    "b. finally:\n",
    "\n",
    "The finally block is used in conjunction with a try block to specify code that should always be executed, whether an exception was raised or not. This block is often used for cleanup operations.\n",
    "\n",
    "c. raise:\n",
    "\n",
    "The raise statement is used to explicitly raise an exception in your code. You can use it when you want to trigger a specific exception condition based on certain criteria."
   ]
  },
  {
   "cell_type": "code",
   "execution_count": 9,
   "id": "7999117b-7824-43e7-8b35-54b625acbe29",
   "metadata": {},
   "outputs": [
    {
     "name": "stdin",
     "output_type": "stream",
     "text": [
      "Enter a number:  15\n"
     ]
    },
    {
     "name": "stdout",
     "output_type": "stream",
     "text": [
      "You entered: 15\n"
     ]
    }
   ],
   "source": [
    "# Example of try and else\n",
    "\n",
    "try:\n",
    "    num = int(input(\"Enter a number: \"))\n",
    "except ValueError:\n",
    "    print(\"Invalid input! Please enter a valid number.\")\n",
    "else:\n",
    "    print(\"You entered:\", num)\n"
   ]
  },
  {
   "cell_type": "code",
   "execution_count": 10,
   "id": "8d5e9528-9b27-47f3-ad95-250ec67c7a38",
   "metadata": {},
   "outputs": [
    {
     "name": "stdout",
     "output_type": "stream",
     "text": [
      "File not found!\n"
     ]
    }
   ],
   "source": [
    "# Exapmle for finally\n",
    "\n",
    "try:\n",
    "    file = open(\"example.txt\", \"r\")\n",
    "    data = file.read()\n",
    "except FileNotFoundError:\n",
    "    print(\"File not found!\")\n",
    "else:\n",
    "    print(\"File contents:\", data)\n",
    "finally:\n",
    "    if 'file' in locals():\n",
    "        file.close()\n"
   ]
  },
  {
   "cell_type": "code",
   "execution_count": 13,
   "id": "8f862756-45b6-4d69-bbc0-9bff280b0559",
   "metadata": {},
   "outputs": [
    {
     "name": "stdout",
     "output_type": "stream",
     "text": [
      "Error: Division by zero is not allowed.\n"
     ]
    }
   ],
   "source": [
    "# Example for raise\n",
    "\n",
    "def divide(a, b):\n",
    "    if b == 0:\n",
    "        raise ZeroDivisionError(\"Division by zero is not allowed.\")\n",
    "    return a / b\n",
    "\n",
    "try:\n",
    "    result = divide(10, 0)\n",
    "except ZeroDivisionError as e:\n",
    "    print(\"Error:\", e)\n",
    "else:\n",
    "    print(\"Result:\", result)\n"
   ]
  },
  {
   "cell_type": "code",
   "execution_count": null,
   "id": "5623df74-20ae-46eb-bd6e-dda2a1369576",
   "metadata": {},
   "outputs": [],
   "source": []
  },
  {
   "cell_type": "markdown",
   "id": "ae54f5ed-9f74-4598-9652-9cb46f67df21",
   "metadata": {},
   "source": [
    "Q5. What are Custom Exceptions in python? Why do we need Custom Exceptions? Explain with an example\n",
    "\n",
    "ANS:\n",
    "\n",
    "Custom exceptions in Python are user-defined exceptions that extend or inherit from the built-in exception classes. These exceptions allow you to define your own error conditions and provide meaningful error messages tailored to your specific application or module. You create custom exceptions by defining new classes that inherit from the Exception class or one of its subclasses.\n",
    "\n",
    "\n",
    "1. Clarity and Readability: Custom exceptions make your code more readable and self-documenting. They provide context-specific information about errors, making it easier to understand what went wrong.\n",
    "\n",
    "2. Modularity: Custom exceptions allow you to encapsulate error-handling logic within your modules or libraries. This separation of concerns makes your code more modular and maintainable.\n",
    "\n",
    "3. Debugging: Custom exceptions can help you pinpoint issues more quickly during debugging because they provide specific information about the error, including where it occurred and what caused it.\n",
    "\n",
    "4. Exception Hierarchy: You can create your own hierarchy of custom exceptions to reflect the structure of your application. This hierarchy allows you to catch and handle exceptions at different levels of granularity.\n",
    "\n",
    "\n"
   ]
  },
  {
   "cell_type": "code",
   "execution_count": 14,
   "id": "e6ffba5b-4b22-45cb-b513-0397a7cfa9dd",
   "metadata": {},
   "outputs": [
    {
     "name": "stdout",
     "output_type": "stream",
     "text": [
      "Custom Error: Data cannot be negative.\n"
     ]
    }
   ],
   "source": [
    "class CustomError(Exception):\n",
    "    \"\"\"A custom exception for demonstrating custom exceptions.\"\"\"\n",
    "    def __init__(self, message):\n",
    "        super().__init__(message)\n",
    "\n",
    "def process_data(data):\n",
    "    if data < 0:\n",
    "        raise CustomError(\"Data cannot be negative.\")\n",
    "    return data * 2\n",
    "\n",
    "try:\n",
    "    result = process_data(-5)\n",
    "except CustomError as e:\n",
    "    print(\"Custom Error:\", e)\n",
    "else:\n",
    "    print(\"Result:\", result)\n"
   ]
  },
  {
   "cell_type": "code",
   "execution_count": null,
   "id": "48d3d001-8cca-4272-9a58-6b78a2682d5b",
   "metadata": {},
   "outputs": [],
   "source": []
  },
  {
   "cell_type": "markdown",
   "id": "a6335669-915c-4b51-8e2d-8b1d711c97a2",
   "metadata": {},
   "source": [
    "Q6. Create a custom exception class. Use this class to handle an exception.\n",
    "\n",
    "ANS:\n",
    "\n"
   ]
  },
  {
   "cell_type": "code",
   "execution_count": 24,
   "id": "9365f192-052c-4eb4-b211-fe5efdab85ff",
   "metadata": {},
   "outputs": [],
   "source": [
    "# Custom exception class\n",
    "class InvalidAgeError(Exception):\n",
    "    def __init__(self, age):\n",
    "        super().__init__(f\"Invalid age: {age}. Age must be between 0 and 120.\")\n",
    "\n",
    "# Function that uses the custom exception\n",
    "def register_user(name, age):\n",
    "    try:\n",
    "        if age < 0 or age > 120:\n",
    "            raise InvalidAgeError(age)\n",
    "        print(f\"User {name} has been registered with age {age}.\")\n",
    "    except InvalidAgeError as e:\n",
    "        print(f\"Error: {e}\")\n"
   ]
  },
  {
   "cell_type": "code",
   "execution_count": 25,
   "id": "d7e1440c-7b1b-4313-bba3-92e70524a23f",
   "metadata": {},
   "outputs": [
    {
     "name": "stdout",
     "output_type": "stream",
     "text": [
      "User Alice has been registered with age 25.\n",
      "Error: Invalid age: -5. Age must be between 0 and 120.\n",
      "Error: Invalid age: 150. Age must be between 0 and 120.\n"
     ]
    }
   ],
   "source": [
    "\n",
    "register_user(\"Alice\", 25)\n",
    "register_user(\"Bob\", -5)\n",
    "register_user(\"Charlie\", 150) \n"
   ]
  },
  {
   "cell_type": "code",
   "execution_count": null,
   "id": "31c90e5f-4b35-4d42-8faf-9a8e29718fd5",
   "metadata": {},
   "outputs": [],
   "source": []
  },
  {
   "cell_type": "code",
   "execution_count": null,
   "id": "50fcf78a-2b69-49fd-8df6-46577b802d19",
   "metadata": {},
   "outputs": [],
   "source": []
  }
 ],
 "metadata": {
  "kernelspec": {
   "display_name": "Python 3 (ipykernel)",
   "language": "python",
   "name": "python3"
  },
  "language_info": {
   "codemirror_mode": {
    "name": "ipython",
    "version": 3
   },
   "file_extension": ".py",
   "mimetype": "text/x-python",
   "name": "python",
   "nbconvert_exporter": "python",
   "pygments_lexer": "ipython3",
   "version": "3.10.8"
  }
 },
 "nbformat": 4,
 "nbformat_minor": 5
}
